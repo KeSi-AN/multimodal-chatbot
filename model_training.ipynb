{
 "cells": [
  {
   "cell_type": "markdown",
   "id": "ae32aab7",
   "metadata": {},
   "source": [
    "# 📓 Local Classifier Training\n",
    "This notebook trains a simple text classifier."
   ]
  },
  {
   "cell_type": "code",
   "execution_count": null,
   "id": "0e0883af",
   "metadata": {},
   "outputs": [],
   "source": [
    "\n",
    "import pandas as pd\n",
    "import matplotlib.pyplot as plt\n",
    "import seaborn as sns\n",
    "from sklearn.model_selection import train_test_split\n",
    "from sklearn.linear_model import LogisticRegression\n",
    "from sklearn.metrics import classification_report, confusion_matrix\n",
    "from sklearn.pipeline import make_pipeline\n",
    "from sklearn.feature_extraction.text import TfidfVectorizer\n",
    "from sklearn.preprocessing import LabelEncoder\n",
    "import joblib\n",
    "import os\n"
   ]
  },
  {
   "cell_type": "code",
   "execution_count": null,
   "id": "393076dc",
   "metadata": {},
   "outputs": [],
   "source": [
    "\n",
    "# Sample dataset (you can replace with a real one)\n",
    "data = {\n",
    "    \"text\": [\n",
    "        \"this is a cat\", \"dog barking\", \"cute kitten\", \"loyal dog\", \n",
    "        \"furry friend\", \"meowing sound\", \"puppy love\", \"tabby cat\"\n",
    "    ],\n",
    "    \"label\": [\n",
    "        \"cat\", \"dog\", \"cat\", \"dog\", \"dog\", \"cat\", \"dog\", \"cat\"\n",
    "    ]\n",
    "}\n",
    "\n",
    "df = pd.DataFrame(data)\n",
    "df.head()\n"
   ]
  },
  {
   "cell_type": "code",
   "execution_count": null,
   "id": "5d9b2386",
   "metadata": {},
   "outputs": [],
   "source": [
    "\n",
    "# Encode labels\n",
    "le = LabelEncoder()\n",
    "df['encoded'] = le.fit_transform(df['label'])\n",
    "\n",
    "# Train-test split\n",
    "X_train, X_test, y_train, y_test = train_test_split(df['text'], df['encoded'], test_size=0.3, random_state=42)\n",
    "\n",
    "# Model pipeline\n",
    "model = make_pipeline(TfidfVectorizer(), LogisticRegression())\n",
    "model.fit(X_train, y_train)\n"
   ]
  },
  {
   "cell_type": "code",
   "execution_count": null,
   "id": "e2e38900",
   "metadata": {},
   "outputs": [],
   "source": [
    "\n",
    "# Evaluation\n",
    "y_pred = model.predict(X_test)\n",
    "print(classification_report(y_test, y_pred, target_names=le.classes_))\n",
    "\n",
    "# Confusion matrix\n",
    "cm = confusion_matrix(y_test, y_pred)\n",
    "sns.heatmap(cm, annot=True, xticklabels=le.classes_, yticklabels=le.classes_)\n",
    "plt.title(\"Confusion Matrix\")\n",
    "plt.show()\n"
   ]
  },
  {
   "cell_type": "code",
   "execution_count": null,
   "id": "38780ab2",
   "metadata": {},
   "outputs": [],
   "source": [
    "\n",
    "# Save model and encoder\n",
    "os.makedirs(\"saved_model\", exist_ok=True)\n",
    "joblib.dump((model, le), \"saved_model/classifier_model.pkl\")\n",
    "print(\"✅ Model saved to saved_model/classifier_model.pkl\")\n"
   ]
  }
 ],
 "metadata": {},
 "nbformat": 4,
 "nbformat_minor": 5
}
